{
 "cells": [
  {
   "cell_type": "markdown",
   "id": "7cbfe22d-03a0-4e96-a45b-90bdd983f025",
   "metadata": {},
   "source": [
    "# Data Science Tools and Ecosystem"
   ]
  },
  {
   "cell_type": "markdown",
   "id": "b870b407-9a09-4b43-a53d-0ab379e26af7",
   "metadata": {},
   "source": [
    "# In this notebook, Data Science Tools and Ecosystem are summarized.\n"
   ]
  },
  {
   "cell_type": "markdown",
   "id": "e6624b71-fde1-490a-b552-867c3f3a488e",
   "metadata": {},
   "source": [
    "# Some of the popular languages that Data Scientists use are:"
   ]
  },
  {
   "cell_type": "markdown",
   "id": "16912853-3a86-4975-aefc-8889d2b267bb",
   "metadata": {},
   "source": [
    "1. python\n",
    "2. R\n",
    "3. scala\n",
    "4. julia\n",
    "5. javascript\n"
   ]
  },
  {
   "cell_type": "markdown",
   "id": "4bba151d-6211-4d5c-87d4-11b77da23996",
   "metadata": {
    "tags": []
   },
   "source": [
    "**Objectives:**\n",
    "\n",
    "- List popular languages for Data Science.\n",
    "- Discuss commonly used data science libraries.\n",
    "- Introduce key tools in the data science ecosystem.\n",
    "- Provide examples of arithmetic expressions in Python."
   ]
  },
  {
   "cell_type": "markdown",
   "id": "5b16c1a4-9053-4afa-97fa-9f3015df6c45",
   "metadata": {},
   "source": [
    "# Some of the commonly used libraries used by Data Scientists include:\n",
    "1. NumPy.\n",
    "2. Keras.\n",
    "3. Pandas.\n",
    "4. PyTorch.\n",
    "5. SciPy.\n",
    "6. Scikit-Learn.\n",
    "7. TensorFlow.\n",
    "8. Matplotlib."
   ]
  },
  {
   "cell_type": "markdown",
   "id": "12b8734f-d5f7-454e-babe-d55afcb81f09",
   "metadata": {},
   "source": [
    "# Table of Data Science tools\n",
    "|  Data Science Tools  |\n",
    "|----------------------|\n",
    "|R studio              |\n",
    "|jupyter notebook      |\n",
    "|watson studio         |\n"
   ]
  },
  {
   "cell_type": "code",
   "execution_count": 6,
   "id": "67cb1f61-c047-4977-89cf-128f9667612b",
   "metadata": {
    "tags": []
   },
   "outputs": [
    {
     "data": {
      "text/plain": [
       "3.3333333333333335"
      ]
     },
     "execution_count": 6,
     "metadata": {},
     "output_type": "execute_result"
    }
   ],
   "source": [
    "# This will convert 200 minutes to hours by diving by 60\n",
    "200 / 60"
   ]
  },
  {
   "cell_type": "markdown",
   "id": "44707256-9b8e-43a2-911f-56ee4c7dd269",
   "metadata": {},
   "source": [
    "### Below are a few examples of evaluating arithmetic expressions in Python"
   ]
  },
  {
   "cell_type": "code",
   "execution_count": 1,
   "id": "5723043d-d078-4b2d-aa62-91818a7ad32b",
   "metadata": {
    "tags": []
   },
   "outputs": [
    {
     "data": {
      "text/plain": [
       "7"
      ]
     },
     "execution_count": 1,
     "metadata": {},
     "output_type": "execute_result"
    }
   ],
   "source": [
    "3+4"
   ]
  },
  {
   "cell_type": "code",
   "execution_count": 5,
   "id": "e99a37d9-2c20-4807-8b17-70819c737b70",
   "metadata": {
    "tags": []
   },
   "outputs": [
    {
     "data": {
      "text/plain": [
       "17"
      ]
     },
     "execution_count": 5,
     "metadata": {},
     "output_type": "execute_result"
    }
   ],
   "source": [
    "(3*4)+5 \n",
    "# This a simple arithmetic expression to mutiply then add integer"
   ]
  },
  {
   "cell_type": "markdown",
   "id": "45302b7b-12c9-4e97-be99-4195e4a0fc97",
   "metadata": {},
   "source": [
    "## Author\n",
    "suraj bisht"
   ]
  },
  {
   "cell_type": "code",
   "execution_count": null,
   "id": "4f7c26fc-3049-4b96-9738-d8200cdcf9ee",
   "metadata": {},
   "outputs": [],
   "source": []
  }
 ],
 "metadata": {
  "kernelspec": {
   "display_name": "Python",
   "language": "python",
   "name": "conda-env-python-py"
  },
  "language_info": {
   "codemirror_mode": {
    "name": "ipython",
    "version": 3
   },
   "file_extension": ".py",
   "mimetype": "text/x-python",
   "name": "python",
   "nbconvert_exporter": "python",
   "pygments_lexer": "ipython3",
   "version": "3.7.12"
  }
 },
 "nbformat": 4,
 "nbformat_minor": 5
}
